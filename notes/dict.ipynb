{
 "cells": [
  {
   "cell_type": "markdown",
   "metadata": {},
   "source": [
    "# Associations and dictionaries\n",
    "\n",
    "In mathematics, we group numbers or other elements in parentheses, thus, forming a *tuple*. For example, to represent a three-dimensional Euclidean point, we'd use 3-tuple notation like `(32,9,9732)`.  Python uses the same mathematical notation:"
   ]
  },
  {
   "cell_type": "code",
   "execution_count": 1,
   "metadata": {
    "collapsed": false
   },
   "outputs": [
    {
     "name": "stdout",
     "output_type": "stream",
     "text": [
      "<type 'tuple'>\n",
      "(32, 9, 9732)\n"
     ]
    }
   ],
   "source": [
    "p = (32,9,9732)\n",
    "print type(p)\n",
    "print p"
   ]
  },
  {
   "cell_type": "markdown",
   "metadata": {},
   "source": [
    "Because Python also uses parentheses for grouping subexpressions like `(1+2)*3`, there is an ambiguity in the language. Does `(5)` represent a single element tuple containing 5 or is it just the integer 5? It turns out that Python considers it an integer so we use the slightly awkward notation `(5,)` instead to mean a 1-tuple.\n",
    "\n",
    "Tuples are ordered and so we access the elements using array indexing notation."
   ]
  },
  {
   "cell_type": "code",
   "execution_count": 2,
   "metadata": {
    "collapsed": false
   },
   "outputs": [
    {
     "name": "stdout",
     "output_type": "stream",
     "text": [
      "32\n",
      "9\n",
      "9732\n"
     ]
    }
   ],
   "source": [
    "print p[0]\n",
    "print p[1]\n",
    "print p[2]"
   ]
  },
  {
   "cell_type": "markdown",
   "metadata": {},
   "source": [
    "In the computational boot camp, we saw one use of tuples in [Manipulating and Visualizing Data](data.ipynb) where the shape of the table is reported using a tuple:\n",
    "\n",
    "```python\n",
    "import pandas\n",
    "prices = pandas.read_csv('data/prices.txt', header=None)\n",
    "print prices.shape\n",
    "```\n",
    "\n",
    "Because tuples are ordered, we could also use list notation:"
   ]
  },
  {
   "cell_type": "code",
   "execution_count": 3,
   "metadata": {
    "collapsed": false
   },
   "outputs": [
    {
     "name": "stdout",
     "output_type": "stream",
     "text": [
      "<type 'list'>\n",
      "[32, 9, 9732]\n"
     ]
    }
   ],
   "source": [
    "q = [32,9,9732]\n",
    "print type(q)\n",
    "print q"
   ]
  },
  {
   "cell_type": "markdown",
   "metadata": {},
   "source": [
    "When I first started programming in Python and encountered tuples, they seemed redundant and an unnecessary complexity. But, I've come to appreciate the distinction between tuples and lists. I tend to think of tuples as **unordered**, though, I still have to access the elements using array index notation. In other words, I view tuples as *associations* or grouping of elements. It's often the case that the elements of a single tuple have different types.\n",
    "\n",
    "Relevant to our topic of document analysis, we'll associate a word (string) with the frequency (integer) with which it occurs in the document. For example, if the word \"cat\" appears 10 times, we'd create a tuple like this:"
   ]
  },
  {
   "cell_type": "code",
   "execution_count": 4,
   "metadata": {
    "collapsed": false
   },
   "outputs": [
    {
     "name": "stdout",
     "output_type": "stream",
     "text": [
      "<type 'tuple'>\n",
      "('cat', 10)\n"
     ]
    }
   ],
   "source": [
    "a = ('cat', 10)\n",
    "print type(a)\n",
    "print a"
   ]
  },
  {
   "cell_type": "markdown",
   "metadata": {},
   "source": [
    "The tuple notation works even when the values are variables not literals:"
   ]
  },
  {
   "cell_type": "code",
   "execution_count": 5,
   "metadata": {
    "collapsed": false
   },
   "outputs": [
    {
     "name": "stdout",
     "output_type": "stream",
     "text": [
      "('cat', 10)\n",
      "cat\n",
      "10\n"
     ]
    }
   ],
   "source": [
    "word = 'cat'\n",
    "freq = 10\n",
    "a = (word, freq)\n",
    "print a\n",
    "print a[0]\n",
    "print a[1]"
   ]
  },
  {
   "cell_type": "markdown",
   "metadata": {},
   "source": [
    "The order of the elements doesn't really matter but, since we need a way to access the elements, ordering them and using array index notation is the simplest approach. We could define `class`es to access the elements by name, such as `a.word`, but that is beyond what we can cover in this boot camp."
   ]
  },
  {
   "cell_type": "markdown",
   "metadata": {},
   "source": [
    "## Bag of words representation\n",
    "\n",
    "A document is a sequence of words that we can represent simply as a list of strings. For example, let's split apart a simple document into words:"
   ]
  },
  {
   "cell_type": "code",
   "execution_count": 7,
   "metadata": {
    "collapsed": false
   },
   "outputs": [
    {
     "name": "stdout",
     "output_type": "stream",
     "text": [
      "['the', 'cat', 'sat', 'on', 'the', 'hat']\n"
     ]
    }
   ],
   "source": [
    "doc = 'the cat sat on the hat'\n",
    "words = doc.split(' ')\n",
    "print words"
   ]
  },
  {
   "cell_type": "markdown",
   "metadata": {},
   "source": [
    "Using a list of words preserves the order, which is sometimes important, but often it is not.  When order is not important, we can use the [bag of words](https://en.wikipedia.org/wiki/Bag-of-words_model) representation of a document that records the words and their frequencies. This not only compresses the space needed to represent the document but it also tells us something about the meaning of the document.  For example,   examining the most common words is often useful for searching and machine learning problems. One representation for bag of words is just a list of associations (order of tuples doesn't matter):"
   ]
  },
  {
   "cell_type": "code",
   "execution_count": 8,
   "metadata": {
    "collapsed": false
   },
   "outputs": [
    {
     "data": {
      "image/svg+xml": [
       "<?xml version=\"1.0\" encoding=\"UTF-8\" standalone=\"no\"?>\n",
       "<!DOCTYPE svg PUBLIC \"-//W3C//DTD SVG 1.1//EN\"\n",
       " \"http://www.w3.org/Graphics/SVG/1.1/DTD/svg11.dtd\">\n",
       "<!-- Generated by graphviz version 2.40.1 (20161225.0304)\n",
       " -->\n",
       "<!-- Title: G Pages: 1 -->\n",
       "<svg width=\"174pt\" height=\"43pt\"\n",
       " viewBox=\"0.00 0.00 174.00 43.00\" xmlns=\"http://www.w3.org/2000/svg\" xmlns:xlink=\"http://www.w3.org/1999/xlink\">\n",
       "<g id=\"graph0\" class=\"graph\" transform=\"scale(1 1) rotate(0) translate(4 39)\">\n",
       "<title>G</title>\n",
       "<polygon fill=\"#ffffff\" stroke=\"transparent\" points=\"-4,4 -4,-39 170,-39 170,4 -4,4\"/>\n",
       "<!-- mainlist -->\n",
       "<g id=\"node1\" class=\"node\">\n",
       "<title>mainlist</title>\n",
       "<polygon fill=\"none\" stroke=\"#000000\" stroke-width=\".5\" points=\"0,-.5 0,-34.5 166,-34.5 166,-.5 0,-.5\"/>\n",
       "<polygon fill=\"#fbfeb0\" stroke=\"transparent\" points=\"1,-18.5 1,-33.5 41,-33.5 41,-18.5 1,-18.5\"/>\n",
       "<polyline fill=\"none\" stroke=\"#000000\" points=\"1,-18.5 41,-18.5 \"/>\n",
       "<text text-anchor=\"start\" x=\"18.4973\" y=\"-23.3\" font-family=\"Helvetica,sans-Serif\" font-size=\"9.00\" fill=\"#444443\">0</text>\n",
       "<polygon fill=\"#fbfeb0\" stroke=\"transparent\" points=\"1,-1.5 1,-18.5 41,-18.5 41,-1.5 1,-1.5\"/>\n",
       "<text text-anchor=\"start\" x=\"2.6953\" y=\"-7.7\" font-family=\"Helvetica,sans-Serif\" font-size=\"11.00\" fill=\"#444443\">&#39;the&#39;→2</text>\n",
       "<polyline fill=\"none\" stroke=\"#000000\" stroke-width=\".5\" points=\"42,-.5 42,-34.5 \"/>\n",
       "<polygon fill=\"#fbfeb0\" stroke=\"transparent\" points=\"43.5,-18.5 43.5,-33.5 82.5,-33.5 82.5,-18.5 43.5,-18.5\"/>\n",
       "<polyline fill=\"none\" stroke=\"#000000\" points=\"43.5,-18.5 82.5,-18.5 \"/>\n",
       "<text text-anchor=\"start\" x=\"60.4973\" y=\"-23.3\" font-family=\"Helvetica,sans-Serif\" font-size=\"9.00\" fill=\"#444443\">1</text>\n",
       "<polygon fill=\"#fbfeb0\" stroke=\"transparent\" points=\"43.5,-1.5 43.5,-18.5 82.5,-18.5 82.5,-1.5 43.5,-1.5\"/>\n",
       "<text text-anchor=\"start\" x=\"45.0042\" y=\"-7.7\" font-family=\"Helvetica,sans-Serif\" font-size=\"11.00\" fill=\"#444443\">&#39;cat&#39;→1</text>\n",
       "<polyline fill=\"none\" stroke=\"#000000\" stroke-width=\".5\" points=\"83,-.5 83,-34.5 \"/>\n",
       "<polygon fill=\"#fbfeb0\" stroke=\"transparent\" points=\"84.5,-18.5 84.5,-33.5 123.5,-33.5 123.5,-18.5 84.5,-18.5\"/>\n",
       "<polyline fill=\"none\" stroke=\"#000000\" points=\"84.5,-18.5 123.5,-18.5 \"/>\n",
       "<text text-anchor=\"start\" x=\"101.4973\" y=\"-23.3\" font-family=\"Helvetica,sans-Serif\" font-size=\"9.00\" fill=\"#444443\">2</text>\n",
       "<polygon fill=\"#fbfeb0\" stroke=\"transparent\" points=\"84.5,-1.5 84.5,-18.5 123.5,-18.5 123.5,-1.5 84.5,-1.5\"/>\n",
       "<text text-anchor=\"start\" x=\"86.0042\" y=\"-7.7\" font-family=\"Helvetica,sans-Serif\" font-size=\"11.00\" fill=\"#444443\">&#39;sat&#39;→1</text>\n",
       "<polyline fill=\"none\" stroke=\"#000000\" stroke-width=\".5\" points=\"124,-.5 124,-34.5 \"/>\n",
       "<polygon fill=\"#fbfeb0\" stroke=\"transparent\" points=\"125,-18.5 125,-33.5 165,-33.5 165,-18.5 125,-18.5\"/>\n",
       "<polyline fill=\"none\" stroke=\"#000000\" points=\"125,-18.5 165,-18.5 \"/>\n",
       "<text text-anchor=\"start\" x=\"142.4973\" y=\"-23.3\" font-family=\"Helvetica,sans-Serif\" font-size=\"9.00\" fill=\"#444443\">3</text>\n",
       "<polygon fill=\"#fbfeb0\" stroke=\"transparent\" points=\"125,-1.5 125,-18.5 165,-18.5 165,-1.5 125,-1.5\"/>\n",
       "<text text-anchor=\"start\" x=\"126.6953\" y=\"-7.7\" font-family=\"Helvetica,sans-Serif\" font-size=\"11.00\" fill=\"#444443\">&#39;hat&#39;→1</text>\n",
       "</g>\n",
       "</g>\n",
       "</svg>\n"
      ],
      "text/plain": [
       "<graphviz.files.Source at 0x1067c24d0>"
      ]
     },
     "execution_count": 8,
     "metadata": {},
     "output_type": "execute_result"
    }
   ],
   "source": [
    "from lolviz import *\n",
    "bag = [('the',2), ('cat',1), ('sat',1), ('hat',1)]\n",
    "listviz(bag)"
   ]
  },
  {
   "cell_type": "markdown",
   "metadata": {},
   "source": [
    "That representation is a faithful representation of a bag of words, but looking up word frequencies is not efficient. To find a word, we must linearly scan the list of tuples looking for the word and then plucking out the frequency."
   ]
  },
  {
   "cell_type": "markdown",
   "metadata": {},
   "source": [
    "## Dictionaries\n",
    "\n",
    "To look up words quickly, we need to use a dictionary, which is really nothing more than a list of key-value associations. The big difference between a `list` of associations and a `dict` is their internal representation and speed of lookup. To create a dictionary from a list of associations is easy:"
   ]
  },
  {
   "cell_type": "code",
   "execution_count": 9,
   "metadata": {
    "collapsed": false
   },
   "outputs": [
    {
     "name": "stdout",
     "output_type": "stream",
     "text": [
      "{'the': 2, 'sat': 1, 'hat': 1, 'cat': 1}\n"
     ]
    }
   ],
   "source": [
    "d = dict(bag)\n",
    "print d"
   ]
  },
  {
   "cell_type": "markdown",
   "metadata": {},
   "source": [
    "Python prints dictionaries out using `dict` literal notation, which we can use to define dictionaries directly:"
   ]
  },
  {
   "cell_type": "code",
   "execution_count": 10,
   "metadata": {
    "collapsed": false
   },
   "outputs": [
    {
     "name": "stdout",
     "output_type": "stream",
     "text": [
      "{'the': 2, 'cat': 1, 'hat': 1, 'sat': 1}\n"
     ]
    },
    {
     "data": {
      "image/svg+xml": [
       "<?xml version=\"1.0\" encoding=\"UTF-8\" standalone=\"no\"?>\n",
       "<!DOCTYPE svg PUBLIC \"-//W3C//DTD SVG 1.1//EN\"\n",
       " \"http://www.w3.org/Graphics/SVG/1.1/DTD/svg11.dtd\">\n",
       "<!-- Generated by graphviz version 2.40.1 (20161225.0304)\n",
       " -->\n",
       "<!-- Title: G Pages: 1 -->\n",
       "<svg width=\"54pt\" height=\"84pt\"\n",
       " viewBox=\"0.00 0.00 53.95 84.08\" xmlns=\"http://www.w3.org/2000/svg\" xmlns:xlink=\"http://www.w3.org/1999/xlink\">\n",
       "<g id=\"graph0\" class=\"graph\" transform=\"scale(1 1) rotate(0) translate(4 80.084)\">\n",
       "<title>G</title>\n",
       "<polygon fill=\"#ffffff\" stroke=\"transparent\" points=\"-4,4 -4,-80.084 49.9531,-80.084 49.9531,4 -4,4\"/>\n",
       "<!-- mainlist -->\n",
       "<g id=\"node1\" class=\"node\">\n",
       "<title>mainlist</title>\n",
       "<polygon fill=\"#fbfeb0\" stroke=\"#444443\" stroke-width=\".5\" points=\"0,-.5 0,-75.584 45.9531,-75.584 45.9531,-.5 0,-.5\"/>\n",
       "<text text-anchor=\"middle\" x=\"22.9766\" y=\"-64.384\" font-family=\"Helvetica,sans-Serif\" font-size=\"9.00\" fill=\"#444443\">&#39;the&#39;→2</text>\n",
       "<polyline fill=\"none\" stroke=\"#444443\" stroke-width=\".5\" points=\"0,-56.813 45.9531,-56.813 \"/>\n",
       "<text text-anchor=\"middle\" x=\"22.9766\" y=\"-45.613\" font-family=\"Helvetica,sans-Serif\" font-size=\"9.00\" fill=\"#444443\">&#39;cat&#39;→1</text>\n",
       "<polyline fill=\"none\" stroke=\"#444443\" stroke-width=\".5\" points=\"0,-38.042 45.9531,-38.042 \"/>\n",
       "<text text-anchor=\"middle\" x=\"22.9766\" y=\"-26.842\" font-family=\"Helvetica,sans-Serif\" font-size=\"9.00\" fill=\"#444443\">&#39;hat&#39;→1</text>\n",
       "<polyline fill=\"none\" stroke=\"#444443\" stroke-width=\".5\" points=\"0,-19.271 45.9531,-19.271 \"/>\n",
       "<text text-anchor=\"middle\" x=\"22.9766\" y=\"-8.071\" font-family=\"Helvetica,sans-Serif\" font-size=\"9.00\" fill=\"#444443\">&#39;sat&#39;→1</text>\n",
       "</g>\n",
       "</g>\n",
       "</svg>\n"
      ],
      "text/plain": [
       "<graphviz.files.Source at 0x106710c10>"
      ]
     },
     "execution_count": 10,
     "metadata": {},
     "output_type": "execute_result"
    }
   ],
   "source": [
    "e = {'the': 2, 'sat': 1, 'hat': 1, 'cat': 1}\n",
    "print e\n",
    "dictviz(e)"
   ]
  },
  {
   "cell_type": "code",
   "execution_count": 11,
   "metadata": {
    "collapsed": false
   },
   "outputs": [
    {
     "data": {
      "image/svg+xml": [
       "<?xml version=\"1.0\" encoding=\"UTF-8\" standalone=\"no\"?>\n",
       "<!DOCTYPE svg PUBLIC \"-//W3C//DTD SVG 1.1//EN\"\n",
       " \"http://www.w3.org/Graphics/SVG/1.1/DTD/svg11.dtd\">\n",
       "<!-- Generated by graphviz version 2.40.1 (20161225.0304)\n",
       " -->\n",
       "<!-- Title: G Pages: 1 -->\n",
       "<svg width=\"103pt\" height=\"152pt\"\n",
       " viewBox=\"0.00 0.00 103.01 152.00\" xmlns=\"http://www.w3.org/2000/svg\" xmlns:xlink=\"http://www.w3.org/1999/xlink\">\n",
       "<g id=\"graph0\" class=\"graph\" transform=\"scale(1 1) rotate(0) translate(4 148)\">\n",
       "<title>G</title>\n",
       "<polygon fill=\"#ffffff\" stroke=\"transparent\" points=\"-4,4 -4,-148 99.0054,-148 99.0054,4 -4,4\"/>\n",
       "<!-- mainlist -->\n",
       "<g id=\"node1\" class=\"node\">\n",
       "<title>mainlist</title>\n",
       "<polygon fill=\"#d9e6f5\" stroke=\"#444443\" stroke-width=\".5\" points=\"0,-37.5 0,-105.5 21.0054,-105.5 21.0054,-37.5 0,-37.5\"/>\n",
       "<text text-anchor=\"middle\" x=\"10.5027\" y=\"-94.3\" font-family=\"Helvetica,sans-Serif\" font-size=\"9.00\" fill=\"#444443\">0</text>\n",
       "<polyline fill=\"none\" stroke=\"#444443\" stroke-width=\".5\" points=\"0,-88.5 21.0054,-88.5 \"/>\n",
       "<text text-anchor=\"middle\" x=\"10.5027\" y=\"-77.3\" font-family=\"Helvetica,sans-Serif\" font-size=\"9.00\" fill=\"#444443\">1</text>\n",
       "<polyline fill=\"none\" stroke=\"#444443\" stroke-width=\".5\" points=\"0,-71.5 21.0054,-71.5 \"/>\n",
       "<text text-anchor=\"middle\" x=\"10.5027\" y=\"-60.3\" font-family=\"Helvetica,sans-Serif\" font-size=\"9.00\" fill=\"#444443\">2</text>\n",
       "<polyline fill=\"none\" stroke=\"#444443\" stroke-width=\".5\" points=\"0,-54.5 21.0054,-54.5 \"/>\n",
       "<text text-anchor=\"middle\" x=\"10.5027\" y=\"-43.3\" font-family=\"Helvetica,sans-Serif\" font-size=\"9.00\" fill=\"#444443\">3</text>\n",
       "</g>\n",
       "<!-- node0 -->\n",
       "<g id=\"node2\" class=\"node\">\n",
       "<title>node0</title>\n",
       "<polygon fill=\"none\" stroke=\"#444443\" stroke-width=\".5\" points=\"57.0054,-111.5 57.0054,-143.5 95.0054,-143.5 95.0054,-111.5 57.0054,-111.5\"/>\n",
       "<polygon fill=\"#fbfeb0\" stroke=\"transparent\" points=\"58.5054,-127.5 58.5054,-142.5 81.5054,-142.5 81.5054,-127.5 58.5054,-127.5\"/>\n",
       "<polyline fill=\"none\" stroke=\"#444443\" points=\"58.5054,-127.5 81.5054,-127.5 \"/>\n",
       "<text text-anchor=\"start\" x=\"67.5027\" y=\"-132.3\" font-family=\"Helvetica,sans-Serif\" font-size=\"9.00\" fill=\"#444443\">0</text>\n",
       "<polygon fill=\"#fbfeb0\" stroke=\"transparent\" points=\"58.5054,-112.5 58.5054,-127.5 81.5054,-127.5 81.5054,-112.5 58.5054,-112.5\"/>\n",
       "<text text-anchor=\"start\" x=\"60.2595\" y=\"-116.7\" font-family=\"Helvetica,sans-Serif\" font-size=\"11.00\" fill=\"#000000\">&#39;the&#39;</text>\n",
       "<polyline fill=\"none\" stroke=\"#444443\" stroke-width=\".5\" points=\"82.0054,-111.5 82.0054,-143.5 \"/>\n",
       "<polygon fill=\"#fbfeb0\" stroke=\"transparent\" points=\"83.5054,-127.5 83.5054,-142.5 94.5054,-142.5 94.5054,-127.5 83.5054,-127.5\"/>\n",
       "<polyline fill=\"none\" stroke=\"#444443\" points=\"83.5054,-127.5 94.5054,-127.5 \"/>\n",
       "<text text-anchor=\"start\" x=\"86.5027\" y=\"-132.3\" font-family=\"Helvetica,sans-Serif\" font-size=\"9.00\" fill=\"#444443\">1</text>\n",
       "<polygon fill=\"#fbfeb0\" stroke=\"transparent\" points=\"83.5054,-112.5 83.5054,-127.5 94.5054,-127.5 94.5054,-112.5 83.5054,-112.5\"/>\n",
       "<text text-anchor=\"start\" x=\"85.9465\" y=\"-116.7\" font-family=\"Helvetica,sans-Serif\" font-size=\"11.00\" fill=\"#000000\">2</text>\n",
       "</g>\n",
       "<!-- mainlist&#45;&gt;node0 -->\n",
       "<g id=\"edge1\" class=\"edge\">\n",
       "<title>mainlist:f0&#45;&gt;node0</title>\n",
       "<path fill=\"none\" stroke=\"#444443\" stroke-width=\".5\" d=\"M21.0054,-97.5C32.8236,-97.5 44.5177,-102.9044 54.0641,-109.1256\"/>\n",
       "<polygon fill=\"#444443\" stroke=\"#444443\" stroke-width=\".5\" points=\"53.3847,-110.3566 57.4803,-111.4461 54.9581,-108.0404 53.3847,-110.3566\"/>\n",
       "</g>\n",
       "<!-- node1 -->\n",
       "<g id=\"node3\" class=\"node\">\n",
       "<title>node1</title>\n",
       "<polygon fill=\"none\" stroke=\"#444443\" stroke-width=\".5\" points=\"57.5054,-74.5 57.5054,-106.5 94.5054,-106.5 94.5054,-74.5 57.5054,-74.5\"/>\n",
       "<polygon fill=\"#fbfeb0\" stroke=\"transparent\" points=\"58.5054,-90.5 58.5054,-105.5 80.5054,-105.5 80.5054,-90.5 58.5054,-90.5\"/>\n",
       "<polyline fill=\"none\" stroke=\"#444443\" points=\"58.5054,-90.5 80.5054,-90.5 \"/>\n",
       "<text text-anchor=\"start\" x=\"67.0027\" y=\"-95.3\" font-family=\"Helvetica,sans-Serif\" font-size=\"9.00\" fill=\"#444443\">0</text>\n",
       "<polygon fill=\"#fbfeb0\" stroke=\"transparent\" points=\"58.5054,-75.5 58.5054,-90.5 80.5054,-90.5 80.5054,-75.5 58.5054,-75.5\"/>\n",
       "<text text-anchor=\"start\" x=\"60.0684\" y=\"-79.7\" font-family=\"Helvetica,sans-Serif\" font-size=\"11.00\" fill=\"#000000\">&#39;cat&#39;</text>\n",
       "<polyline fill=\"none\" stroke=\"#444443\" stroke-width=\".5\" points=\"81.5054,-74.5 81.5054,-106.5 \"/>\n",
       "<polygon fill=\"#fbfeb0\" stroke=\"transparent\" points=\"83.0054,-90.5 83.0054,-105.5 94.0054,-105.5 94.0054,-90.5 83.0054,-90.5\"/>\n",
       "<polyline fill=\"none\" stroke=\"#444443\" points=\"83.0054,-90.5 94.0054,-90.5 \"/>\n",
       "<text text-anchor=\"start\" x=\"86.0027\" y=\"-95.3\" font-family=\"Helvetica,sans-Serif\" font-size=\"9.00\" fill=\"#444443\">1</text>\n",
       "<polygon fill=\"#fbfeb0\" stroke=\"transparent\" points=\"83.0054,-75.5 83.0054,-90.5 94.0054,-90.5 94.0054,-75.5 83.0054,-75.5\"/>\n",
       "<text text-anchor=\"start\" x=\"85.4465\" y=\"-79.7\" font-family=\"Helvetica,sans-Serif\" font-size=\"11.00\" fill=\"#000000\">1</text>\n",
       "</g>\n",
       "<!-- mainlist&#45;&gt;node1 -->\n",
       "<g id=\"edge2\" class=\"edge\">\n",
       "<title>mainlist:f1&#45;&gt;node1</title>\n",
       "<path fill=\"none\" stroke=\"#444443\" stroke-width=\".5\" d=\"M21.0054,-80.5C31.7053,-80.5 43.39,-82.3547 53.2268,-84.4666\"/>\n",
       "<polygon fill=\"#444443\" stroke=\"#444443\" stroke-width=\".5\" points=\"53.1119,-85.8755 57.3211,-85.3828 53.7234,-83.1431 53.1119,-85.8755\"/>\n",
       "</g>\n",
       "<!-- node2 -->\n",
       "<g id=\"node4\" class=\"node\">\n",
       "<title>node2</title>\n",
       "<polygon fill=\"none\" stroke=\"#444443\" stroke-width=\".5\" points=\"57.0054,-37.5 57.0054,-69.5 95.0054,-69.5 95.0054,-37.5 57.0054,-37.5\"/>\n",
       "<polygon fill=\"#fbfeb0\" stroke=\"transparent\" points=\"58.5054,-53.5 58.5054,-68.5 81.5054,-68.5 81.5054,-53.5 58.5054,-53.5\"/>\n",
       "<polyline fill=\"none\" stroke=\"#444443\" points=\"58.5054,-53.5 81.5054,-53.5 \"/>\n",
       "<text text-anchor=\"start\" x=\"67.5027\" y=\"-58.3\" font-family=\"Helvetica,sans-Serif\" font-size=\"9.00\" fill=\"#444443\">0</text>\n",
       "<polygon fill=\"#fbfeb0\" stroke=\"transparent\" points=\"58.5054,-38.5 58.5054,-53.5 81.5054,-53.5 81.5054,-38.5 58.5054,-38.5\"/>\n",
       "<text text-anchor=\"start\" x=\"60.2595\" y=\"-42.7\" font-family=\"Helvetica,sans-Serif\" font-size=\"11.00\" fill=\"#000000\">&#39;hat&#39;</text>\n",
       "<polyline fill=\"none\" stroke=\"#444443\" stroke-width=\".5\" points=\"82.0054,-37.5 82.0054,-69.5 \"/>\n",
       "<polygon fill=\"#fbfeb0\" stroke=\"transparent\" points=\"83.5054,-53.5 83.5054,-68.5 94.5054,-68.5 94.5054,-53.5 83.5054,-53.5\"/>\n",
       "<polyline fill=\"none\" stroke=\"#444443\" points=\"83.5054,-53.5 94.5054,-53.5 \"/>\n",
       "<text text-anchor=\"start\" x=\"86.5027\" y=\"-58.3\" font-family=\"Helvetica,sans-Serif\" font-size=\"9.00\" fill=\"#444443\">1</text>\n",
       "<polygon fill=\"#fbfeb0\" stroke=\"transparent\" points=\"83.5054,-38.5 83.5054,-53.5 94.5054,-53.5 94.5054,-38.5 83.5054,-38.5\"/>\n",
       "<text text-anchor=\"start\" x=\"85.9465\" y=\"-42.7\" font-family=\"Helvetica,sans-Serif\" font-size=\"11.00\" fill=\"#000000\">1</text>\n",
       "</g>\n",
       "<!-- mainlist&#45;&gt;node2 -->\n",
       "<g id=\"edge3\" class=\"edge\">\n",
       "<title>mainlist:f2&#45;&gt;node2</title>\n",
       "<path fill=\"none\" stroke=\"#444443\" stroke-width=\".5\" d=\"M21.0054,-62.5C31.5034,-62.5 42.9824,-60.8833 52.725,-59.0204\"/>\n",
       "<polygon fill=\"#444443\" stroke=\"#444443\" stroke-width=\".5\" points=\"53.1371,-60.3659 56.7862,-58.2109 52.5897,-57.6199 53.1371,-60.3659\"/>\n",
       "</g>\n",
       "<!-- node3 -->\n",
       "<g id=\"node5\" class=\"node\">\n",
       "<title>node3</title>\n",
       "<polygon fill=\"none\" stroke=\"#444443\" stroke-width=\".5\" points=\"57.5054,-.5 57.5054,-32.5 94.5054,-32.5 94.5054,-.5 57.5054,-.5\"/>\n",
       "<polygon fill=\"#fbfeb0\" stroke=\"transparent\" points=\"58.5054,-16.5 58.5054,-31.5 80.5054,-31.5 80.5054,-16.5 58.5054,-16.5\"/>\n",
       "<polyline fill=\"none\" stroke=\"#444443\" points=\"58.5054,-16.5 80.5054,-16.5 \"/>\n",
       "<text text-anchor=\"start\" x=\"67.0027\" y=\"-21.3\" font-family=\"Helvetica,sans-Serif\" font-size=\"9.00\" fill=\"#444443\">0</text>\n",
       "<polygon fill=\"#fbfeb0\" stroke=\"transparent\" points=\"58.5054,-1.5 58.5054,-16.5 80.5054,-16.5 80.5054,-1.5 58.5054,-1.5\"/>\n",
       "<text text-anchor=\"start\" x=\"60.0684\" y=\"-5.7\" font-family=\"Helvetica,sans-Serif\" font-size=\"11.00\" fill=\"#000000\">&#39;sat&#39;</text>\n",
       "<polyline fill=\"none\" stroke=\"#444443\" stroke-width=\".5\" points=\"81.5054,-.5 81.5054,-32.5 \"/>\n",
       "<polygon fill=\"#fbfeb0\" stroke=\"transparent\" points=\"83.0054,-16.5 83.0054,-31.5 94.0054,-31.5 94.0054,-16.5 83.0054,-16.5\"/>\n",
       "<polyline fill=\"none\" stroke=\"#444443\" points=\"83.0054,-16.5 94.0054,-16.5 \"/>\n",
       "<text text-anchor=\"start\" x=\"86.0027\" y=\"-21.3\" font-family=\"Helvetica,sans-Serif\" font-size=\"9.00\" fill=\"#444443\">1</text>\n",
       "<polygon fill=\"#fbfeb0\" stroke=\"transparent\" points=\"83.0054,-1.5 83.0054,-16.5 94.0054,-16.5 94.0054,-1.5 83.0054,-1.5\"/>\n",
       "<text text-anchor=\"start\" x=\"85.4465\" y=\"-5.7\" font-family=\"Helvetica,sans-Serif\" font-size=\"11.00\" fill=\"#000000\">1</text>\n",
       "</g>\n",
       "<!-- mainlist&#45;&gt;node3 -->\n",
       "<g id=\"edge4\" class=\"edge\">\n",
       "<title>mainlist:f3&#45;&gt;node3</title>\n",
       "<path fill=\"none\" stroke=\"#444443\" stroke-width=\".5\" d=\"M21.0054,-45.5C32.7344,-45.5 44.4151,-40.2757 53.9755,-34.2619\"/>\n",
       "<polygon fill=\"#444443\" stroke=\"#444443\" stroke-width=\".5\" points=\"54.8199,-35.3824 57.398,-32.0188 53.285,-33.0406 54.8199,-35.3824\"/>\n",
       "</g>\n",
       "</g>\n",
       "</svg>\n"
      ],
      "text/plain": [
       "<graphviz.files.Source at 0x1067c21d0>"
      ]
     },
     "execution_count": 11,
     "metadata": {},
     "output_type": "execute_result"
    }
   ],
   "source": [
    "lolviz(e.items())  # or, at the lowest level, a list of lists"
   ]
  },
  {
   "cell_type": "markdown",
   "metadata": {},
   "source": [
    "In implementation, however, dictionaries are actually more complicated than lists of associations in order to get the speed.\n",
    "\n",
    "Accessing elements of the dictionary looks like array indexing except that the index is an arbitrary object, such as a string in our case:"
   ]
  },
  {
   "cell_type": "code",
   "execution_count": 12,
   "metadata": {
    "collapsed": false
   },
   "outputs": [
    {
     "name": "stdout",
     "output_type": "stream",
     "text": [
      "2\n",
      "1\n",
      "99\n"
     ]
    }
   ],
   "source": [
    "print d['the']\n",
    "print d['hat']\n",
    "d['hat'] = 99    # alter the association\n",
    "print d['hat']"
   ]
  },
  {
   "cell_type": "markdown",
   "metadata": {},
   "source": [
    "Trying to access a key that does not exist in the dictionary causes a `KeyError` so it's best to check if the key exists first:"
   ]
  },
  {
   "cell_type": "code",
   "execution_count": 13,
   "metadata": {
    "collapsed": false
   },
   "outputs": [
    {
     "name": "stdout",
     "output_type": "stream",
     "text": [
      "1\n"
     ]
    }
   ],
   "source": [
    "# print d['foo']     # This would cause a KeyError!\n",
    "if 'cat' in d:       # hat is indeed in dictionary d\n",
    "    print d['cat']\n",
    "if 'foo' in d:       # does not exist so we don't get an error on the next line    \n",
    "    print d['foo']   # does not execute"
   ]
  },
  {
   "cell_type": "markdown",
   "metadata": {},
   "source": [
    "If you ever need a list of association representation of a dictionary, use function `items()`:"
   ]
  },
  {
   "cell_type": "code",
   "execution_count": 14,
   "metadata": {
    "collapsed": false
   },
   "outputs": [
    {
     "name": "stdout",
     "output_type": "stream",
     "text": [
      "[('the', 2), ('sat', 1), ('hat', 99), ('cat', 1)]\n"
     ]
    }
   ],
   "source": [
    "print d.items()"
   ]
  },
  {
   "cell_type": "markdown",
   "metadata": {},
   "source": [
    "Now that we know about associating words and word frequencies using dictionaries, we can try pulling apart a document into words in the [Intro to information extraction from text](notes/text.ipynb)."
   ]
  }
 ],
 "metadata": {
  "kernelspec": {
   "display_name": "Python [conda root]",
   "language": "python",
   "name": "conda-root-py"
  },
  "language_info": {
   "codemirror_mode": {
    "name": "ipython",
    "version": 2
   },
   "file_extension": ".py",
   "mimetype": "text/x-python",
   "name": "python",
   "nbconvert_exporter": "python",
   "pygments_lexer": "ipython2",
   "version": "2.7.12"
  }
 },
 "nbformat": 4,
 "nbformat_minor": 1
}
