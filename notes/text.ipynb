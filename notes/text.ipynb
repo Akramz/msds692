{
 "cells": [
  {
   "cell_type": "markdown",
   "metadata": {},
   "source": [
    "## Intro to information extraction from text\n",
    "\n",
    "*TODO*: spacy.io for text processing. does parts of speech even.\n",
    "\n",
    "Most of the data we've looked at so far has been *structured*, meaning essentially that the data looked like a table or Excel spreadsheet. Not all data looks like that, however.  Human readable text is an extremely common *unstructured* data source.  From the text of a webpage, tweet, or document, businesses want to perform things like:\n",
    "\n",
    "* sentiment analysis\n",
    "* document summarization\n",
    "* document clustering\n",
    "* document recommendation\n",
    "\n",
    "Later in MSAN 692, we'll learn how to extract the text from webpages or pieces of webpages such as the bestseller list at Amazon. For now, we can play with some prepared text files.\n",
    "\n",
    "Text analysis uses words as data rather than numbers, which means *tokenizing* text; i.e., splitting the text string for a document into individual words. This problem is actually much harder than you might think.  For example, if we split the document text on the space character, then \"San Francisco\" would be split into two words.  For our purposes here, that'll work just fine. See [Tokenization in this excellent information retrieval book](https://nlp.stanford.edu/IR-book/html/htmledition/tokenization-1.html) for more information.\n",
    "\n",
    "<img src=\"figures/wordcloud.png\" style=\"width:200px\" align=\"right\">The goal of this lecture-lab is to get familiar with tokenizing text and how to extract some basic data, such as word frequency. To visualize information extracted from a document, we'll use *word clouds* like the image to the right that emphasize words according to their frequency."
   ]
  },
  {
   "cell_type": "markdown",
   "metadata": {},
   "source": [
    "## Tokenizing a document\n",
    "\n",
    "Let's use an article on Istanbul as our text file and then figure out how to get an appropriate list of words out of it."
   ]
  },
  {
   "cell_type": "code",
   "execution_count": 25,
   "metadata": {},
   "outputs": [
    {
     "name": "stdout",
     "output_type": "stream",
     "text": [
      "\r\n",
      "  \r\n",
      "  \r\n",
      "    \r\n",
      "      \r\n",
      "        The City and ITS People\r\n",
      "        Istanbul is one of the worlds most venerable cities. Part\r\n",
      "        of the citys allure is its setting, where Europe faces Asia acr­oss\r\n",
      "        the winding turquoise waters of the Bosphorus, making it the only city\r\n",
      "        in the world to bridge two continents.\r\n"
     ]
    }
   ],
   "source": [
    "! head data/IntroIstanbul.txt"
   ]
  },
  {
   "cell_type": "markdown",
   "metadata": {},
   "source": [
    "In [Loading files](files.md), we learned how to read the contents of such a file into a string and split it on the space character:"
   ]
  },
  {
   "cell_type": "code",
   "execution_count": 26,
   "metadata": {
    "scrolled": true
   },
   "outputs": [
    {
     "name": "stdout",
     "output_type": "stream",
     "text": [
      "['\\n', '', '\\n', '', '\\n', '', '', '', '\\n', '', '', '', '', '', '\\n', '', '', '', '', '', '', '', 'The', 'City', 'and']\n"
     ]
    }
   ],
   "source": [
    "f = open('data/IntroIstanbul.txt')\n",
    "contents = f.read() # read all content of the file\n",
    "f.close()\n",
    "words = contents.split(' ')\n",
    "print(words[:25])    # print first 25 words"
   ]
  },
  {
   "cell_type": "markdown",
   "metadata": {},
   "source": [
    "As an exercise, we filtered out the empty strings `''` and newline strings `'\\n'` using the filter pattern:"
   ]
  },
  {
   "cell_type": "code",
   "execution_count": 27,
   "metadata": {},
   "outputs": [
    {
     "name": "stdout",
     "output_type": "stream",
     "text": [
      "['The', 'City', 'and', 'ITS', 'People\\n', 'Istanbul', 'is', 'one', 'of', 'the', 'worlds', 'most', 'venerable', 'cities.', 'Part\\n', 'of', 'the', 'citys', 'allure', 'is', 'its', 'setting,', 'where', 'Europe', 'faces']\n"
     ]
    }
   ],
   "source": [
    "words = [w for w in words if len(w)>1]\n",
    "print(words[:25])"
   ]
  },
  {
   "cell_type": "markdown",
   "metadata": {},
   "source": [
    "That looks more like it although it is still not very clean. Some of the words have `\\n` or punctuation on the end and some words are capitalized.  What we need, though, is all words normalized so that `people` and `People` are consider the same word etc...\n",
    "\n",
    "**Exercise**:  Implement another filter pattern to convert the words to lowercase using `lower()`. E.g., `'The'.lower()` is `'the'`.\n",
    "\n",
    "Here's one way to do it:"
   ]
  },
  {
   "cell_type": "code",
   "execution_count": 28,
   "metadata": {},
   "outputs": [
    {
     "name": "stdout",
     "output_type": "stream",
     "text": [
      "['the', 'city', 'and', 'its', 'people\\n', 'istanbul', 'is', 'one', 'of', 'the', 'worlds', 'most', 'venerable', 'cities.', 'part\\n', 'of', 'the', 'citys', 'allure', 'is', 'its', 'setting,', 'where', 'europe', 'faces']\n"
     ]
    }
   ],
   "source": [
    "words = [w.lower() for w in words]\n",
    "print(words[:25])"
   ]
  },
  {
   "cell_type": "markdown",
   "metadata": {},
   "source": [
    "**Exercise**:  Implement another filter pattern to get rid of the '\\n' using `split()`. E.g., `'part\\n'.strip()` gives 'part'.\n",
    "\n",
    "Here's one way to do it:"
   ]
  },
  {
   "cell_type": "code",
   "execution_count": 29,
   "metadata": {},
   "outputs": [
    {
     "name": "stdout",
     "output_type": "stream",
     "text": [
      "['the', 'city', 'and', 'its', 'people', 'istanbul', 'is', 'one', 'of', 'the', 'worlds', 'most', 'venerable', 'cities.', 'part', 'of', 'the', 'citys', 'allure', 'is', 'its', 'setting,', 'where', 'europe', 'faces']\n"
     ]
    }
   ],
   "source": [
    "words = [w.strip() for w in words]\n",
    "print(words[:25])"
   ]
  },
  {
   "cell_type": "markdown",
   "metadata": {},
   "source": [
    "That's not the best we can do. For example \"faces\" and \"face\" should be the same. Let's *stem* the words: "
   ]
  },
  {
   "cell_type": "code",
   "execution_count": 30,
   "metadata": {},
   "outputs": [
    {
     "name": "stdout",
     "output_type": "stream",
     "text": [
      "['the', 'citi', 'and', 'it', 'peopl', 'istanbul', 'is', 'one', 'of', 'the', 'world', 'most', 'vener', 'cities.', 'part', 'of', 'the', 'citi', 'allur', 'is', 'it', 'setting,', 'where', 'europ', 'face', 'asia', 'acr\\xadoss', 'the', 'wind', 'turquois', 'water', 'of', 'the', 'bosphorus,', 'make', 'it', 'the', 'onli', 'citi', 'in', 'the', 'world', 'to', 'bridg', 'two']\n"
     ]
    }
   ],
   "source": [
    "from nltk.stem.porter import PorterStemmer\n",
    "stemmer = PorterStemmer()\n",
    "stemmed = [stemmer.stem(w) for w in words]\n",
    "print(stemmed[:45])"
   ]
  },
  {
   "cell_type": "markdown",
   "metadata": {},
   "source": [
    "## Computing word frequencies\n",
    "\n",
    "Let's create a [bag of words](notes/dict.ipynb) representation. My work plan would have a description like \"Walk through the words in a document, updating a dictionary that holds the count for each word.\" The plan pseudocode would have a loop over the words whose body incremented a count in a dictionary\n",
    "\n",
    "1. let wfreqs be an empty dictionary mapping words to word counts\n",
    "2. for each word w in words:<br>if w not in wfreqs, let wfreqs[w] = 1.<br>Otherwise add one to wfreqs[w].\n",
    "\n",
    "My code implementation would look like the following."
   ]
  },
  {
   "cell_type": "code",
   "execution_count": 31,
   "metadata": {},
   "outputs": [
    {
     "name": "stdout",
     "output_type": "stream",
     "text": [
      "4\n",
      "123\n"
     ]
    }
   ],
   "source": [
    "wfreqs = {}\n",
    "for w in words:\n",
    "    if w not in wfreqs: wfreqs[w] = 1\n",
    "    else: wfreqs[w] = wfreqs[w] + 1\n",
    "print(wfreqs['ottoman'])\n",
    "print(wfreqs['the'])"
   ]
  },
  {
   "cell_type": "markdown",
   "metadata": {},
   "source": [
    "Computing the frequency of elements in a list is common enough that Python provides a built-in data structure called a `Counter` that will do this for us:"
   ]
  },
  {
   "cell_type": "code",
   "execution_count": 32,
   "metadata": {},
   "outputs": [
    {
     "name": "stdout",
     "output_type": "stream",
     "text": [
      "4\n",
      "123\n"
     ]
    }
   ],
   "source": [
    "from collections import Counter\n",
    "ctr = Counter(words)\n",
    "print(ctr['ottoman'])\n",
    "print(ctr['the'])"
   ]
  },
  {
   "cell_type": "markdown",
   "metadata": {},
   "source": [
    "That data structure is nice because it can give the list of, say, 10 most common words:"
   ]
  },
  {
   "cell_type": "code",
   "execution_count": 33,
   "metadata": {},
   "outputs": [
    {
     "name": "stdout",
     "output_type": "stream",
     "text": [
      "[('the', 123), ('of', 55), ('and', 40), ('to', 18), ('in', 16), ('is', 14), ('most', 9), ('from', 9), ('city', 8), ('with', 7)]\n"
     ]
    }
   ],
   "source": [
    "print(ctr.most_common(10))"
   ]
  },
  {
   "cell_type": "markdown",
   "metadata": {},
   "source": [
    "### Exercise\n",
    "\n",
    "Extract the most common 10 words from `ctr` (i.e., not the tuples)."
   ]
  },
  {
   "cell_type": "code",
   "execution_count": 34,
   "metadata": {},
   "outputs": [
    {
     "name": "stdout",
     "output_type": "stream",
     "text": [
      "['the', 'of', 'and', 'to', 'in', 'is', 'most', 'from', 'city', 'with']\n"
     ]
    }
   ],
   "source": [
    "print([p[0] for p in ctr.most_common(10)])"
   ]
  },
  {
   "cell_type": "markdown",
   "metadata": {},
   "source": [
    "## Word clouds\n",
    "\n",
    "Python has a nice library called `wordcloud` we can use to visualize the relative frequency of words. It should already be installed in your Anaconda Python directory, but if not use the command line to install it:\n",
    "\n",
    "```bash\n",
    "$ pip install wordcloud\n",
    "```\n",
    "\n",
    "The key elements of the following code are the creation of the `WordCloud` and calling `fit_words()` with a dictionary (type `dict`) of word-freq associations, `wfreq`."
   ]
  },
  {
   "cell_type": "code",
   "execution_count": 35,
   "metadata": {
    "scrolled": true
   },
   "outputs": [
    {
     "data": {
      "text/plain": [
       "<Figure size 500x300 with 1 Axes>"
      ]
     },
     "metadata": {},
     "output_type": "display_data"
    }
   ],
   "source": [
    "from wordcloud import WordCloud\n",
    "import matplotlib.pyplot as plt\n",
    "\n",
    "wordcloud = WordCloud()\n",
    "wordcloud.fit_words(ctr)\n",
    "\n",
    "fig=plt.figure(figsize=(5, 3))   # Prepare a plot 5x3 inches\n",
    "plt.imshow(wordcloud)\n",
    "plt.axis(\"off\")\n",
    "plt.show()"
   ]
  },
  {
   "cell_type": "markdown",
   "metadata": {},
   "source": [
    "That's kind of busy will all of those words in there, so let's focus on the top 30 words. To do that we will call `most_common()`, which gives us a list of tuples. Because `fit_words()` it requires a `dict`, we convert the most common word list into a dictionary:"
   ]
  },
  {
   "cell_type": "code",
   "execution_count": 36,
   "metadata": {},
   "outputs": [
    {
     "data": {
      "image/png": "[encoded data removed]",
      "text/plain": [
       "<Figure size 360x216 with 1 Axes>"
      ]
     },
     "metadata": {},
     "output_type": "display_data"
    }
   ],
   "source": [
    "# Get 30 most common word-freq pairs then convert to dictionary for use by WordCloud\n",
    "wtuples = ctr.most_common(30)\n",
    "wdict = dict(wtuples)\n",
    "\n",
    "wordcloud = WordCloud()\n",
    "wordcloud.fit_words(wdict)\n",
    "\n",
    "fig=plt.figure(figsize=(5, 3))\n",
    "plt.imshow(wordcloud)\n",
    "plt.axis(\"off\")\n",
    "plt.show()"
   ]
  },
  {
   "cell_type": "markdown",
   "metadata": {},
   "source": [
    "That looks better but it looks like common English words like \"the\" and \"of\" are dominating the visualization. To focus on the words most relevant to the document, let's filter out such so-called English *stop words*. [scikit-learn](http://scikit-learn.org/stable/), a machine learning library you will become very familiar with in future classes, provides a nice list of stop words we can use:"
   ]
  },
  {
   "cell_type": "code",
   "execution_count": 37,
   "metadata": {
    "scrolled": true
   },
   "outputs": [
    {
     "name": "stdout",
     "output_type": "stream",
     "text": [
      "['something', 'latter', 'was', 'anyway', 'hereafter', 'himself', 'latterly', 'one', 'an', 'becoming', 'ever', 'see', 'full', 'thereafter', 'upon', 'thereupon', 'wherever', 'as', 'down', 'seemed', 'each', 'same', 'somehow', 'twenty', 'above']\n"
     ]
    }
   ],
   "source": [
    "from sklearn.feature_extraction.text import ENGLISH_STOP_WORDS\n",
    "english = list(ENGLISH_STOP_WORDS) # Convert to a list so I can grab a subset\n",
    "print(english[:25])                # Print 25 of the words"
   ]
  },
  {
   "cell_type": "markdown",
   "metadata": {},
   "source": [
    "### Exercise \n",
    "\n",
    "Filter out the English stop words from the `words` list we computed above and reset `wfreqs` to a `Counter` based off this filtered list."
   ]
  },
  {
   "cell_type": "code",
   "execution_count": 38,
   "metadata": {
    "scrolled": true
   },
   "outputs": [
    {
     "name": "stdout",
     "output_type": "stream",
     "text": [
      "[('city', 8), ('istanbul', 6), ('worlds', 6), ('citys', 5), ('bosphorus', 5), ('sea', 4), ('ottoman', 4), ('important', 4), ('europe', 3), ('asia', 3)]\n"
     ]
    }
   ],
   "source": [
    "goodwords = [w for w in words if w not in ENGLISH_STOP_WORDS]\n",
    "goodctr = Counter(goodwords)\n",
    "print(goodctr.most_common(10))"
   ]
  },
  {
   "cell_type": "code",
   "execution_count": 39,
   "metadata": {},
   "outputs": [
    {
     "data": {
      "image/png": "[encoded data removed]",
      "text/plain": [
       "<Figure size 360x216 with 1 Axes>"
      ]
     },
     "metadata": {},
     "output_type": "display_data"
    }
   ],
   "source": [
    "wtuples = goodctr.most_common(30)\n",
    "wdict = dict(wtuples)\n",
    "\n",
    "wordcloud = WordCloud()\n",
    "wordcloud.fit_words(wdict)\n",
    "\n",
    "fig=plt.figure(figsize=(5, 3))\n",
    "plt.imshow(wordcloud)\n",
    "plt.axis(\"off\")\n",
    "plt.show()"
   ]
  },
  {
   "cell_type": "markdown",
   "metadata": {},
   "source": [
    "### Exercise\n",
    "\n",
    "Add Porter stemming to the previous exercise"
   ]
  },
  {
   "cell_type": "markdown",
   "metadata": {},
   "source": [
    "You can play around with the list of stop words to remove things like \"important\" and others to really get the key words to pop out. There is a technique to automatically damp down common English words called [TFIDF](https://en.wikipedia.org/wiki/Tf%E2%80%93idf), which we will learn about soon in this class."
   ]
  },
  {
   "cell_type": "markdown",
   "metadata": {
    "collapsed": true
   },
   "source": [
    "## Summary\n",
    "\n",
    "Text files are an unstructured data source that we typically represent as a bag of words. A bag of words representation is a set of associations mapping words to their frequency or count. We typically use a dictionary data structure for bag of words because dictionary lookup is extremely efficient, versus linearly scanning an entire list of associations. We used word clouds to visualize the relative frequency of words in a document. \n",
    "\n",
    "The data structures and techniques described in this lecture-lab form the basis of natural language processing (NLP)."
   ]
  }
 ],
 "metadata": {
  "anaconda-cloud": {},
  "kernelspec": {
   "display_name": "Python 3",
   "language": "python",
   "name": "python3"
  },
  "language_info": {
   "codemirror_mode": {
    "name": "ipython",
    "version": 3
   },
   "file_extension": ".py",
   "mimetype": "text/x-python",
   "name": "python",
   "nbconvert_exporter": "python",
   "pygments_lexer": "ipython3",
   "version": "3.6.5"
  },
  "toc": {
   "nav_menu": {
    "height": "189px",
    "width": "252px"
   },
   "number_sections": true,
   "sideBar": true,
   "skip_h1_title": false,
   "toc_cell": false,
   "toc_position": {},
   "toc_section_display": "block",
   "toc_window_display": false
  }
 },
 "nbformat": 4,
 "nbformat_minor": 1
}
