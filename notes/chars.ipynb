{
 "cells": [
  {
   "cell_type": "markdown",
   "metadata": {},
   "source": [
    "# Representing text in a computer\n",
    "\n",
    "As with everything else in the computer, we represent text using numbers. If you look at [7-bit ascii codes](http://www.asciitable.com/), you'll see how Americans encoded the English character set (upper and lower case, numbers, punctuation, and some other characters like newlines and tab). They represent the numbers < 127, which fits in 7 bits.  A string such as \"abc\" was represented by three bytes, one byte per character. It is a very dense encoding, meaning very few bits are wasted.\n",
    "\n",
    "For a very long time, other languages were out of luck. A number of countries used the remaining 128..255 numeric values to encode characters useful to their language such as accented letters like ś and ŝ. They typically used the [Latin-1](https://en.wikipedia.org/wiki/ISO/IEC_8859-1) character set. The problem is that lots of countries used the number 201, but for different characters.  For example, Russian characters were often mapped to numbers using a [KOI8-R](https://en.wikipedia.org/wiki/KOI8-R) mapping that overlapped with the 0..255 used by ASCII, Latin-1. Enter Unicode. See [Unicode vs ascii in python](https://docs.python.org/2/howto/unicode.html) for more details than I have here.\n",
    "\n",
    "Unicode is an agreed-upon standard that maps characters to numeric values (called code points). Conveniently, the first 127 values map exactly to ASCII characters. Here is a [mapping of character to numeric value](http://unicode-table.com/en/). For example, here is how [Bengali characters are encoded](http://unicode-table.com/en/blocks/bengali/):\n",
    "\n",
    "<img src=\"figures/bengali.png\" style=\"width:700px\">\n",
    "\n",
    "Reading from this table left to right,  the first character is 980+0, the second is 980+1, etc...  The only trick is that the numbers on the left are in hexadecimal. You will see the notation U+0981. Hexadecimal, base 16, is used because all possible values within 16 bits fit in 4 hexadecimal digits.\n",
    "\n",
    "To represent Unicode we have to use 16-bit (2 byte) not 8-bit (1 byte) characters. Rats. Oh well, we can buy more memory. According to the documentation:\n",
    "\n",
    "> Under the hood, Python represents Unicode strings as either 16- or 32-bit integers, depending on how the Python interpreter was compiled.\n",
    "\n",
    "So, regular Python string `\"abc\"` takes three bytes but if we represented as a Unicode string, it takes 3 x 2 bytes = 6 bytes.  We can verify this char size with the `getsizeof` function:"
   ]
  },
  {
   "cell_type": "code",
   "execution_count": 3,
   "metadata": {
    "collapsed": false
   },
   "outputs": [
    {
     "name": "stdout",
     "output_type": "stream",
     "text": [
      "37\n",
      "38\n",
      "39\n",
      "40\n"
     ]
    }
   ],
   "source": [
    "from sys import getsizeof\n",
    "print getsizeof('')   # 37 bytes of overhead for a string object\n",
    "print getsizeof('a')\n",
    "print getsizeof('ab')\n",
    "print getsizeof('abc')"
   ]
  },
  {
   "cell_type": "code",
   "execution_count": 4,
   "metadata": {
    "collapsed": false
   },
   "outputs": [
    {
     "name": "stdout",
     "output_type": "stream",
     "text": [
      "50\n",
      "52\n",
      "54\n",
      "56\n"
     ]
    }
   ],
   "source": [
    "print getsizeof(u'') # 50 bytes of overhead for a Unicode string object\n",
    "print getsizeof(u'a')\n",
    "print getsizeof(u'ab')\n",
    "print getsizeof(u'abc')"
   ]
  },
  {
   "cell_type": "markdown",
   "metadata": {},
   "source": [
    "Unicode strings are different objects than regular Python strings. We use notation `u'abc'` vs `'abc'` or `unicode('abc')`. We also have `unichr(x)` vs `chr(x)`:"
   ]
  },
  {
   "cell_type": "code",
   "execution_count": 8,
   "metadata": {
    "collapsed": false
   },
   "outputs": [
    {
     "name": "stdout",
     "output_type": "stream",
     "text": [
      "d\n",
      "d\n",
      "� '\\xff'\n"
     ]
    }
   ],
   "source": [
    "print chr(100)\n",
    "print unichr(100)\n",
    "print chr(255), repr(chr(255))"
   ]
  },
  {
   "cell_type": "markdown",
   "metadata": {},
   "source": [
    "If you give a character numeric value beyond what fits in one byte, you will get an error unless you indicate that it's Unicode character:"
   ]
  },
  {
   "cell_type": "markdown",
   "metadata": {},
   "source": [
    "```python\n",
    ">>> chr(3000)\n",
    "Traceback (most recent call last):\n",
    "  File \"<stdin>\", line 1, in <module>\n",
    "ValueError: chr() arg not in range(256)\n",
    ">>> unichr(3000)\n",
    "u'\\u0bb8'\n",
    "```"
   ]
  },
  {
   "cell_type": "markdown",
   "metadata": {},
   "source": [
    "For fun, you can get the Unicode name from a numeric character value:"
   ]
  },
  {
   "cell_type": "code",
   "execution_count": 41,
   "metadata": {
    "collapsed": false
   },
   "outputs": [
    {
     "name": "stdout",
     "output_type": "stream",
     "text": [
      "PENCIL\n",
      "TAPE DRIVE\n",
      "✏\n",
      "✇\n"
     ]
    }
   ],
   "source": [
    "import unicodedata\n",
    "print unicodedata.name(unichr(9999))\n",
    "print unicodedata.name(unichr(9991))\n",
    "print unicodedata.lookup(\"PENCIL\")\n",
    "print unicodedata.lookup(\"TAPE DRIVE\")"
   ]
  },
  {
   "cell_type": "markdown",
   "metadata": {},
   "source": [
    "The `\\xFF` notation means FF in hexadecimal (all bits on) or 255 in decimal. A byte can be described in 2 hexadecimal digits, which is why we tend to use hexadecimal. \n",
    "\n",
    "To express 16 bit Unicode characters, we have to use the Unicode string not a regular string and we use `\\uABCD` notation for a two byte character."
   ]
  },
  {
   "cell_type": "code",
   "execution_count": 10,
   "metadata": {
    "collapsed": false
   },
   "outputs": [
    {
     "name": "stdout",
     "output_type": "stream",
     "text": [
      "«\n"
     ]
    }
   ],
   "source": [
    ">>> print u'\\u00ab'"
   ]
  },
  {
   "cell_type": "markdown",
   "metadata": {},
   "source": [
    "Note `\\xAB` notation still works in Unicode strings."
   ]
  },
  {
   "cell_type": "markdown",
   "metadata": {},
   "source": [
    "## Text file encoding\n",
    "\n",
    "*Now, let's make a distinction between strings in memory and text files stored on the disk.*\n",
    "\n",
    "Storing a regular Python string with eight bit characters and will file is straightforward. Every character in the string is written to the file as a byte. Compression algorithms can reduce that space requirement but, for an uncompressed format, it's very tight.\n",
    "\n",
    "Not so for 16-bit Unicode characters. Such largess doubles the size requirement to store a string, even if all of the characters fit in ASCII (< 127). \n",
    "\n",
    "Instead of blindly storing two bytes per character, we optimize for the case where characters fit within one byte using an *encoding* called **UTF-8**. UTF stands for \"Unicode Transformation Format\" but I typically call it \"Unicode To Follow\" because of the way it does encoding.  \n",
    "\n",
    "UTF-8 is a simple encoding of Unicode strings that is optimized for the ASCII characters. In each byte of the encoding, the high bit determines if more bytes follow. A high bit of zero means that the byte has enough information to fully represent a character; ASCII characters require only a single byte. From [UTF-8](http://www.fileformat.info/info/unicode/utf8.htm):\n",
    "\n",
    "1st Byte |   2nd Byte  |  3rd Byte  |  4th Byte  |  Number of Free Bits | Maximum Expressible Unicode Value\n",
    "---------|---------|---------|---------|---------|---------\n",
    "0xxxxxxx |  |||              7 |  007F hex (127)\n",
    "110xxxxx |   10xxxxxx |     |     | (5+6)=11  |  07FF hex (2047)\n",
    "1110xxxx |   10xxxxxx  |  10xxxxxx   |     |(4+6+6)=16|  FFFF hex (65535)\n",
    "11110xxx  |  10xxxxxx   | 10xxxxxx  |  10xxxxxx   | (3+6+6+6)=21 |   10FFFF hex (1,114,111)\n",
    "\n",
    "\n",
    "*Encodings are used when converting between raw 8-bit bytes and 16-bit Unicode characters.* For example, the default file character encoding for files on a US computer is `UTF-8`. On a Japanese machine, the encoding might be `euc-jp`, which is optimized for the Japanese character set.\n",
    "\n",
    "**Bottom line:** If you are reading text from a file, you must know the encoding. If you receive a file from Japan, you should not expect it to have the same encoding as a file created locally on your US machine. This becomes even more relevant when we start talking about computers communicating over the network. Strings must be encoded for efficiency\n",
    "\n",
    "As we will see when discussing the HTTP web protocol, servers can send back headers that are essentially properties. One of the properties that browsers look for is the encoding of the data coming back from the server. Our computer science Web server, for example, response to page fetches with header (among other things):\n",
    "\n",
    "```\n",
    "content-type=text/html; charset=UTF-8\n",
    "```"
   ]
  },
  {
   "cell_type": "markdown",
   "metadata": {},
   "source": [
    "### Saving text\n",
    "\n",
    "Character strings in Python use Unicode character mappings/values, but when we write it to the disc, we have a choice of formats (encodings).  In general you should stick with ASCII or UTF-8 (which is an agreed-upon file format that uses the Unicode mappings).\n",
    "\n",
    "Ok, now let's write out some text using different encodings. First, let's write out a simple string of ASCII characters from a regular Python string:"
   ]
  },
  {
   "cell_type": "code",
   "execution_count": 9,
   "metadata": {
    "collapsed": false
   },
   "outputs": [
    {
     "name": "stdout",
     "output_type": "stream",
     "text": [
      "0000000    I   D       3   4   5  \\n                                    \n",
      "           73  68  32  51  52  53  10                                    \n",
      "0000007\n",
      "0000000    I   D       3   4   5  \\n                                    \n",
      "           49  44  20  33  34  35  0a                                    \n",
      "0000007\n"
     ]
    }
   ],
   "source": [
    "# Write an ASCII-encoded text file\n",
    "f = open(\"/tmp/ascii.txt\", \"w\")\n",
    "f.write(\"ID 345\\n\")\n",
    "f.close()\n",
    "! od -c -t dC /tmp/ascii.txt\n",
    "! od -c -t xC /tmp/ascii.txt"
   ]
  },
  {
   "cell_type": "markdown",
   "metadata": {},
   "source": [
    "That demonstrates that all of the bytes are associated with single characters. You can look up the `od` command but the `-c` tells it to print out the bytes as characters and `-t dC` tells it to print out the decimal values of those characters; `-t xC` tells it to print those character values in hexadecimal.\n",
    "\n",
    "*Please note that `345` is a sequence of three characters not the binary value 345.*\n",
    "\n",
    "Writing out a Unicode string should be done with an encoder and UTF-8 is the most commonly used encoder:"
   ]
  },
  {
   "cell_type": "code",
   "execution_count": 11,
   "metadata": {
    "collapsed": false
   },
   "outputs": [],
   "source": [
    "# Write a UTF-8-encoded text file\n",
    "import codecs\n",
    "import unicodedata\n",
    "f = codecs.open('/tmp/utf8.txt', encoding='utf-8', mode='w')\n",
    "pencil = unicodedata.lookup(\"PENCIL\")\n",
    "f.write(u'Pencil: '+pencil+u', Euro: \\u20ac\\n')\n",
    "# or use actual character: f.write(u'Pencil: ✏, Euro: €\\n') # make sure to use u'...' str\n",
    "f.close()"
   ]
  },
  {
   "cell_type": "markdown",
   "metadata": {},
   "source": [
    "If we look at the file, we see something's wrong. We get some unprintable characters:"
   ]
  },
  {
   "cell_type": "code",
   "execution_count": 60,
   "metadata": {
    "collapsed": false
   },
   "outputs": [
    {
     "name": "stdout",
     "output_type": "stream",
     "text": [
      "0000000    P   e   n   c   i   l   :       ✏  **  **   ,       E   u   r\r\n",
      "           50  65  6e  63  69  6c  3a  20  e2  9c  8f  2c  20  45  75  72\r\n",
      "0000020    o   :       €  **  **  \\n                                    \r\n",
      "           6f  3a  20  e2  82  ac  0a                                    \r\n",
      "0000027\r\n"
     ]
    }
   ],
   "source": [
    "! od -c -t xC /tmp/utf8.txt"
   ]
  },
  {
   "cell_type": "markdown",
   "metadata": {},
   "source": [
    "We have to read it back using the decoder associated with the encoding of the file:"
   ]
  },
  {
   "cell_type": "code",
   "execution_count": 64,
   "metadata": {
    "collapsed": false
   },
   "outputs": [
    {
     "name": "stdout",
     "output_type": "stream",
     "text": [
      "u'Pencil: \\u270f, Euro: \\u20ac\\n'\n",
      "Pencil: ✏, Euro: €\n",
      "\n"
     ]
    }
   ],
   "source": [
    "import codecs\n",
    "f = codecs.open('/tmp/utf8.txt', encoding='utf-8', mode='r')\n",
    "s = f.read()\n",
    "f.close()\n",
    "print repr(s)  # show a Python string representation of s\n",
    "print s"
   ]
  },
  {
   "cell_type": "markdown",
   "metadata": {},
   "source": [
    "### Exercise\n",
    "\n",
    "Test out those two simple Python programs to make sure you can write and read Unicode characters. Use the `od` command to dump the characters in the file."
   ]
  },
  {
   "cell_type": "markdown",
   "metadata": {},
   "source": [
    "## Language within a text file\n",
    "\n",
    "If I tell you that a file is a text file, it tells you only that, with a proper decoder, the file represents a string of characters from some language's alphabet.  Character-based (text) files are an incredibly common way to store information. All of the following types of files are text-based:\n",
    "\n",
    "* comma-separate values (CSV)\n",
    "* XML\n",
    "* HTML\n",
    "* Natural language text\n",
    "* Python, JavaScript, Java, C++, any programming language\n",
    "* JSON\n",
    "\n",
    "Examples of non-textbased formats: mp3, png, jpg, .mpg, ...\n",
    "\n",
    "As we learn to process data files, you will see that they are all textbased but the text inside follows the grammar of a specific format: CSV, XML, etc...\n",
    "\n",
    "For your first project, you will be working with stock history obtained from Quandl finance in CSV format. Your project will partially be to convert it to HTML, JSON, XML. The file sizes for the various formats are as follows.\n",
    "\n",
    "```bash\n",
    "$ ls -l\n",
    "total 9728\n",
    "-rw-r--r--@ 1 parrt  wheel   583817 Aug 22 12:06 AAPL.csv\n",
    "-rw-r--r--  1 parrt  wheel  1177603 Aug 22 12:06 AAPL.html\n",
    "-rw-r--r--  1 parrt  wheel  1438395 Aug 22 12:06 AAPL.json\n",
    "-rw-r--r--  1 parrt  wheel  1771234 Aug 22 12:06 AAPL.xml\n",
    "```\n",
    "\n",
    "You can see that the same information takes a lot more storage, depending on the format. Compression tells us something about how much information is actually in a file. I discovered that when compressed the file sizes are very similar, indicating that all of the extra fluff in XML is a waste of space.\n",
    "\n",
    "To compress everything with `7z`, we can use a simple `for` loop from the bash shell:\n",
    "\n",
    "```bash\n",
    "$ for f in *; do 7z a $f.7z $f; done\n",
    "```\n",
    "\n",
    "Then, we can look at the compressed file sizes:\n",
    "\n",
    "```bash\n",
    "$ ls -l *.7z\n",
    "-rw-r--r--  1 parrt  wheel  146388 Aug 22 12:18 AAPL.csv.7z\n",
    "-rw-r--r--  1 parrt  wheel  159252 Aug 22 12:18 AAPL.html.7z\n",
    "-rw-r--r--  1 parrt  wheel  182134 Aug 22 12:18 AAPL.json.7z\n",
    "-rw-r--r--  1 parrt  wheel  187013 Aug 22 12:18 AAPL.xml.7z\n",
    "```\n",
    "\n",
    "The ratio of original to compressed for CSV is 4 where is the ratio for JSON is 7.9 and 9.5 for XML. Hideous waste of space apparently for these other formats. The venerable CSV is actually pretty efficient way to store data as text. Of course, that doesn't mean we can't still compress it 4 to 1."
   ]
  }
 ],
 "metadata": {
  "kernelspec": {
   "display_name": "Python 2",
   "language": "python",
   "name": "python2"
  },
  "language_info": {
   "codemirror_mode": {
    "name": "ipython",
    "version": 2
   },
   "file_extension": ".py",
   "mimetype": "text/x-python",
   "name": "python",
   "nbconvert_exporter": "python",
   "pygments_lexer": "ipython2",
   "version": "2.7.13"
  },
  "toc": {
   "colors": {
    "hover_highlight": "#DAA520",
    "navigate_num": "#000000",
    "navigate_text": "#333333",
    "running_highlight": "#FF0000",
    "selected_highlight": "#FFD700",
    "sidebar_border": "#EEEEEE",
    "wrapper_background": "#FFFFFF"
   },
   "moveMenuLeft": true,
   "nav_menu": {
    "height": "104px",
    "width": "252px"
   },
   "navigate_menu": true,
   "number_sections": true,
   "sideBar": true,
   "threshold": 4,
   "toc_cell": false,
   "toc_section_display": "block",
   "toc_window_display": false,
   "widenNotebook": false
  }
 },
 "nbformat": 4,
 "nbformat_minor": 1
}
